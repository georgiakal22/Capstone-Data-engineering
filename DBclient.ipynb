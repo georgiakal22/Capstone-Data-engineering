{
 "cells": [
  {
   "attachments": {},
   "cell_type": "markdown",
   "metadata": {},
   "source": [
    "# Python DB Client"
   ]
  },
  {
   "attachments": {},
   "cell_type": "markdown",
   "metadata": {},
   "source": [
    "Importing the mysql-connector-python"
   ]
  },
  {
   "cell_type": "code",
   "execution_count": 1,
   "metadata": {},
   "outputs": [],
   "source": [
    "import mysql.connector as connector"
   ]
  },
  {
   "attachments": {},
   "cell_type": "markdown",
   "metadata": {},
   "source": [
    "Connection to the MySQL server instance and creation of a cursor"
   ]
  },
  {
   "cell_type": "code",
   "execution_count": 2,
   "metadata": {},
   "outputs": [],
   "source": [
    "connection_args = {\n",
    "    'user': 'youruser',\n",
    "    'password': 'yourpass',\n",
    "    'database': 'littlelemon_db'\n",
    "\n",
    "}\n",
    "\n",
    "connection = connector.connect(**connection_args)\n",
    "cursor = connection.cursor()"
   ]
  },
  {
   "attachments": {},
   "cell_type": "markdown",
   "metadata": {},
   "source": [
    "### Showing tables  \n",
    "Iterating over cursor"
   ]
  },
  {
   "cell_type": "code",
   "execution_count": 3,
   "metadata": {},
   "outputs": [
    {
     "name": "stdout",
     "output_type": "stream",
     "text": [
      "('bookings',)\n",
      "('cuisine',)\n",
      "('customers',)\n",
      "('menu',)\n",
      "('menuitem',)\n",
      "('menuview',)\n",
      "('orders',)\n",
      "('orderstatus',)\n",
      "('ordersview',)\n",
      "('roles',)\n",
      "('staff',)\n",
      "('type',)\n"
     ]
    }
   ],
   "source": [
    "show_tables_query = 'SHOW TABLES;'\n",
    "cursor.execute(show_tables_query)\n",
    "\n",
    "for result in cursor:\n",
    "    print(result)"
   ]
  },
  {
   "attachments": {},
   "cell_type": "markdown",
   "metadata": {},
   "source": [
    "Or with fetchall() method of the cursor instance"
   ]
  },
  {
   "cell_type": "code",
   "execution_count": 4,
   "metadata": {},
   "outputs": [
    {
     "name": "stdout",
     "output_type": "stream",
     "text": [
      "[('bookings',), ('cuisine',), ('customers',), ('menu',), ('menuitem',), ('menuview',), ('orders',), ('orderstatus',), ('ordersview',), ('roles',), ('staff',), ('type',)]\n"
     ]
    }
   ],
   "source": [
    "cursor.execute(show_tables_query)\n",
    "results = cursor.fetchall()\n",
    "\n",
    "print(results)"
   ]
  },
  {
   "attachments": {},
   "cell_type": "markdown",
   "metadata": {},
   "source": [
    "### Using JOINS\n",
    "Full name and contact details for every customer that has placed an order greater than $60 (Greater than $15 in my case)"
   ]
  },
  {
   "cell_type": "code",
   "execution_count": 5,
   "metadata": {},
   "outputs": [
    {
     "name": "stdout",
     "output_type": "stream",
     "text": [
      "('Javi Noble', 'javi_noble@mail.com', 33333, 3, Decimal('32.00'))\n",
      "('Javi Noble', 'javi_noble@mail.com', 33333, 8, Decimal('32.00'))\n"
     ]
    }
   ],
   "source": [
    "cost = (15.00,)\n",
    "join_query = \"\"\"\n",
    "SELECT FullName, Email, ContactNumber, OrderID, TotalCost\n",
    "FROM Customers JOIN Orders \n",
    "USING(CustomerID)\n",
    "WHERE TotalCost > %s\n",
    "\"\"\" % cost\n",
    "\n",
    "cursor.execute(join_query)\n",
    "\n",
    "for result in cursor:\n",
    "    print(result)"
   ]
  },
  {
   "attachments": {},
   "cell_type": "markdown",
   "metadata": {},
   "source": [
    "Closing the connection"
   ]
  },
  {
   "cell_type": "code",
   "execution_count": 6,
   "metadata": {},
   "outputs": [
    {
     "name": "stdout",
     "output_type": "stream",
     "text": [
      "Connection is closed\n"
     ]
    }
   ],
   "source": [
    "if connection.is_connected():\n",
    "\n",
    "    connection.close()\n",
    "    print('Connection is closed')\n",
    "else:\n",
    "    print('Connection already closed.')\n"
   ]
  }
 ],
 "metadata": {
  "kernelspec": {
   "display_name": "Python 3",
   "language": "python",
   "name": "python3"
  },
  "language_info": {
   "codemirror_mode": {
    "name": "ipython",
    "version": 3
   },
   "file_extension": ".py",
   "mimetype": "text/x-python",
   "name": "python",
   "nbconvert_exporter": "python",
   "pygments_lexer": "ipython3",
   "version": "3.11.0"
  },
  "orig_nbformat": 4,
  "vscode": {
   "interpreter": {
    "hash": "1262adde892511b7739d1eee4b44c0288f5f6da409b2c7dd90a180969332c238"
   }
  }
 },
 "nbformat": 4,
 "nbformat_minor": 2
}
